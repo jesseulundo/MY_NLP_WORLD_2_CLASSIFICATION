{
 "cells": [
  {
   "cell_type": "code",
   "execution_count": 1,
   "metadata": {},
   "outputs": [
    {
     "name": "stderr",
     "output_type": "stream",
     "text": [
      "//anaconda3/envs/jctensorflow/lib/python3.7/site-packages/sklearn/utils/deprecation.py:144: FutureWarning: The sklearn.neighbors.base module is  deprecated in version 0.22 and will be removed in version 0.24. The corresponding classes / functions should instead be imported from sklearn.neighbors. Anything that cannot be imported from sklearn.neighbors is now part of the private API.\n",
      "  warnings.warn(message, FutureWarning)\n",
      "//anaconda3/envs/jctensorflow/lib/python3.7/site-packages/sklearn/utils/deprecation.py:144: FutureWarning: The sklearn.ensemble.bagging module is  deprecated in version 0.22 and will be removed in version 0.24. The corresponding classes / functions should instead be imported from sklearn.ensemble. Anything that cannot be imported from sklearn.ensemble is now part of the private API.\n",
      "  warnings.warn(message, FutureWarning)\n",
      "//anaconda3/envs/jctensorflow/lib/python3.7/site-packages/sklearn/utils/deprecation.py:144: FutureWarning: The sklearn.ensemble.base module is  deprecated in version 0.22 and will be removed in version 0.24. The corresponding classes / functions should instead be imported from sklearn.ensemble. Anything that cannot be imported from sklearn.ensemble is now part of the private API.\n",
      "  warnings.warn(message, FutureWarning)\n",
      "//anaconda3/envs/jctensorflow/lib/python3.7/site-packages/sklearn/utils/deprecation.py:144: FutureWarning: The sklearn.ensemble.forest module is  deprecated in version 0.22 and will be removed in version 0.24. The corresponding classes / functions should instead be imported from sklearn.ensemble. Anything that cannot be imported from sklearn.ensemble is now part of the private API.\n",
      "  warnings.warn(message, FutureWarning)\n",
      "Using TensorFlow backend.\n",
      "//anaconda3/envs/jctensorflow/lib/python3.7/site-packages/tensorflow/python/framework/dtypes.py:516: FutureWarning: Passing (type, 1) or '1type' as a synonym of type is deprecated; in a future version of numpy, it will be understood as (type, (1,)) / '(1,)type'.\n",
      "  _np_qint8 = np.dtype([(\"qint8\", np.int8, 1)])\n",
      "//anaconda3/envs/jctensorflow/lib/python3.7/site-packages/tensorflow/python/framework/dtypes.py:517: FutureWarning: Passing (type, 1) or '1type' as a synonym of type is deprecated; in a future version of numpy, it will be understood as (type, (1,)) / '(1,)type'.\n",
      "  _np_quint8 = np.dtype([(\"quint8\", np.uint8, 1)])\n",
      "//anaconda3/envs/jctensorflow/lib/python3.7/site-packages/tensorflow/python/framework/dtypes.py:518: FutureWarning: Passing (type, 1) or '1type' as a synonym of type is deprecated; in a future version of numpy, it will be understood as (type, (1,)) / '(1,)type'.\n",
      "  _np_qint16 = np.dtype([(\"qint16\", np.int16, 1)])\n",
      "//anaconda3/envs/jctensorflow/lib/python3.7/site-packages/tensorflow/python/framework/dtypes.py:519: FutureWarning: Passing (type, 1) or '1type' as a synonym of type is deprecated; in a future version of numpy, it will be understood as (type, (1,)) / '(1,)type'.\n",
      "  _np_quint16 = np.dtype([(\"quint16\", np.uint16, 1)])\n",
      "//anaconda3/envs/jctensorflow/lib/python3.7/site-packages/tensorflow/python/framework/dtypes.py:520: FutureWarning: Passing (type, 1) or '1type' as a synonym of type is deprecated; in a future version of numpy, it will be understood as (type, (1,)) / '(1,)type'.\n",
      "  _np_qint32 = np.dtype([(\"qint32\", np.int32, 1)])\n",
      "//anaconda3/envs/jctensorflow/lib/python3.7/site-packages/tensorflow/python/framework/dtypes.py:525: FutureWarning: Passing (type, 1) or '1type' as a synonym of type is deprecated; in a future version of numpy, it will be understood as (type, (1,)) / '(1,)type'.\n",
      "  np_resource = np.dtype([(\"resource\", np.ubyte, 1)])\n",
      "//anaconda3/envs/jctensorflow/lib/python3.7/site-packages/sklearn/utils/deprecation.py:144: FutureWarning: The sklearn.utils.testing module is  deprecated in version 0.22 and will be removed in version 0.24. The corresponding classes / functions should instead be imported from sklearn.utils. Anything that cannot be imported from sklearn.utils is now part of the private API.\n",
      "  warnings.warn(message, FutureWarning)\n",
      "//anaconda3/envs/jctensorflow/lib/python3.7/site-packages/sklearn/utils/deprecation.py:144: FutureWarning: The sklearn.metrics.classification module is  deprecated in version 0.22 and will be removed in version 0.24. The corresponding classes / functions should instead be imported from sklearn.metrics. Anything that cannot be imported from sklearn.metrics is now part of the private API.\n",
      "  warnings.warn(message, FutureWarning)\n"
     ]
    }
   ],
   "source": [
    "import MeCab\n",
    "import pickle\n",
    "import gensim\n",
    "import numpy as np\n",
    "import pandas as pd\n",
    "import gensim.corpora as corpora\n",
    "from collections import Counter\n",
    "from gensim import similarities\n",
    "from gensim.utils import simple_preprocess\n",
    "from gensim.models import CoherenceModel, LdaModel, LsiModel, HdpModel\n",
    "from gensim.models.fasttext import FastText\n",
    "from pprint import pprint\n",
    "from google.cloud import storage as gcs\n",
    "from sklearn.pipeline import Pipeline\n",
    "from sklearn.feature_extraction.text import TfidfTransformer, TfidfVectorizer, CountVectorizer\n",
    "from sklearn.metrics import accuracy_score, f1_score, fbeta_score, classification_report, confusion_matrix\n",
    "from sklearn.model_selection import KFold, train_test_split, RandomizedSearchCV, GridSearchCV, ShuffleSplit, cross_val_score\n",
    "from sklearn.linear_model import LogisticRegression\n",
    "from imblearn.over_sampling import SMOTE"
   ]
  },
  {
   "cell_type": "code",
   "execution_count": 2,
   "metadata": {},
   "outputs": [
    {
     "name": "stderr",
     "output_type": "stream",
     "text": [
      "//anaconda3/envs/jctensorflow/lib/python3.7/site-packages/google/auth/_default.py:69: UserWarning: Your application has authenticated using end user credentials from Google Cloud SDK. We recommend that most server applications use service accounts instead. If your application continues to use end user credentials from Cloud SDK, you might receive a \"quota exceeded\" or \"API not enabled\" error. For more information about service accounts, see https://cloud.google.com/docs/authentication/\n",
      "  warnings.warn(_CLOUD_SDK_CREDENTIALS_WARNING)\n",
      "//anaconda3/envs/jctensorflow/lib/python3.7/site-packages/google/auth/_default.py:69: UserWarning: Your application has authenticated using end user credentials from Google Cloud SDK. We recommend that most server applications use service accounts instead. If your application continues to use end user credentials from Cloud SDK, you might receive a \"quota exceeded\" or \"API not enabled\" error. For more information about service accounts, see https://cloud.google.com/docs/authentication/\n",
      "  warnings.warn(_CLOUD_SDK_CREDENTIALS_WARNING)\n",
      "//anaconda3/envs/jctensorflow/lib/python3.7/site-packages/google/auth/_default.py:69: UserWarning: Your application has authenticated using end user credentials from Google Cloud SDK. We recommend that most server applications use service accounts instead. If your application continues to use end user credentials from Cloud SDK, you might receive a \"quota exceeded\" or \"API not enabled\" error. For more information about service accounts, see https://cloud.google.com/docs/authentication/\n",
      "  warnings.warn(_CLOUD_SDK_CREDENTIALS_WARNING)\n"
     ]
    },
    {
     "data": {
      "text/html": [
       "<div>\n",
       "<style scoped>\n",
       "    .dataframe tbody tr th:only-of-type {\n",
       "        vertical-align: middle;\n",
       "    }\n",
       "\n",
       "    .dataframe tbody tr th {\n",
       "        vertical-align: top;\n",
       "    }\n",
       "\n",
       "    .dataframe thead th {\n",
       "        text-align: right;\n",
       "    }\n",
       "</style>\n",
       "<table border=\"1\" class=\"dataframe\">\n",
       "  <thead>\n",
       "    <tr style=\"text-align: right;\">\n",
       "      <th></th>\n",
       "      <th>id</th>\n",
       "      <th>overall_satisfaction</th>\n",
       "      <th>overall_satisfaction_reason</th>\n",
       "      <th>categories</th>\n",
       "    </tr>\n",
       "  </thead>\n",
       "  <tbody>\n",
       "    <tr>\n",
       "      <td>0</td>\n",
       "      <td>111377</td>\n",
       "      <td>2</td>\n",
       "      <td>店舗スタッフの対応が悪い</td>\n",
       "      <td>スタッフの対応が悪い</td>\n",
       "    </tr>\n",
       "    <tr>\n",
       "      <td>1</td>\n",
       "      <td>111379</td>\n",
       "      <td>2</td>\n",
       "      <td>他のボドゲのお店だと店員や常連さんが気をきかせてくれていたので、そこと比べてしまうとどうして...</td>\n",
       "      <td>スタッフの対応が悪い</td>\n",
       "    </tr>\n",
       "    <tr>\n",
       "      <td>2</td>\n",
       "      <td>111381</td>\n",
       "      <td>2</td>\n",
       "      <td>想像していた人数よりも少ない。</td>\n",
       "      <td>参加人数（多い、少ない）</td>\n",
       "    </tr>\n",
       "    <tr>\n",
       "      <td>3</td>\n",
       "      <td>111383</td>\n",
       "      <td>2</td>\n",
       "      <td>大人数なのにマンツーマン、フリータイムが少ない。</td>\n",
       "      <td>出会えなかった</td>\n",
       "    </tr>\n",
       "    <tr>\n",
       "      <td>4</td>\n",
       "      <td>111386</td>\n",
       "      <td>2</td>\n",
       "      <td>食べ物が酒の肴にならない</td>\n",
       "      <td>飲食内容の質が低い</td>\n",
       "    </tr>\n",
       "    <tr>\n",
       "      <td>...</td>\n",
       "      <td>...</td>\n",
       "      <td>...</td>\n",
       "      <td>...</td>\n",
       "      <td>...</td>\n",
       "    </tr>\n",
       "    <tr>\n",
       "      <td>4404</td>\n",
       "      <td>131663</td>\n",
       "      <td>1</td>\n",
       "      <td>参加者が少なすぎる</td>\n",
       "      <td>参加人数（多い、少ない）</td>\n",
       "    </tr>\n",
       "    <tr>\n",
       "      <td>4405</td>\n",
       "      <td>131664</td>\n",
       "      <td>1</td>\n",
       "      <td>料理の品数が少なすぎた。\\nスタッフの対応も最悪。</td>\n",
       "      <td>飲食内容の質が低い</td>\n",
       "    </tr>\n",
       "    <tr>\n",
       "      <td>4406</td>\n",
       "      <td>131675</td>\n",
       "      <td>1</td>\n",
       "      <td>最終的に社長から返金対応する旨の提案を受け、案内を約束されたが未だ待っている状況。\\n本当に...</td>\n",
       "      <td>その他</td>\n",
       "    </tr>\n",
       "    <tr>\n",
       "      <td>4407</td>\n",
       "      <td>131676</td>\n",
       "      <td>2</td>\n",
       "      <td>水上バスは夜景がきれいだったけど、ほんとにそれだけって感じだった。違和感がありすぎた。</td>\n",
       "      <td>会場や雰囲気が悪い</td>\n",
       "    </tr>\n",
       "    <tr>\n",
       "      <td>4408</td>\n",
       "      <td>131679</td>\n",
       "      <td>1</td>\n",
       "      <td>参加費4000円と交通費と時間が無駄でした、やってることは詐欺ですね</td>\n",
       "      <td>その他</td>\n",
       "    </tr>\n",
       "  </tbody>\n",
       "</table>\n",
       "<p>4409 rows × 4 columns</p>\n",
       "</div>"
      ],
      "text/plain": [
       "          id  overall_satisfaction  \\\n",
       "0     111377                     2   \n",
       "1     111379                     2   \n",
       "2     111381                     2   \n",
       "3     111383                     2   \n",
       "4     111386                     2   \n",
       "...      ...                   ...   \n",
       "4404  131663                     1   \n",
       "4405  131664                     1   \n",
       "4406  131675                     1   \n",
       "4407  131676                     2   \n",
       "4408  131679                     1   \n",
       "\n",
       "                            overall_satisfaction_reason    categories  \n",
       "0                                          店舗スタッフの対応が悪い    スタッフの対応が悪い  \n",
       "1     他のボドゲのお店だと店員や常連さんが気をきかせてくれていたので、そこと比べてしまうとどうして...    スタッフの対応が悪い  \n",
       "2                                       想像していた人数よりも少ない。  参加人数（多い、少ない）  \n",
       "3                              大人数なのにマンツーマン、フリータイムが少ない。       出会えなかった  \n",
       "4                                          食べ物が酒の肴にならない     飲食内容の質が低い  \n",
       "...                                                 ...           ...  \n",
       "4404                                          参加者が少なすぎる  参加人数（多い、少ない）  \n",
       "4405                          料理の品数が少なすぎた。\\nスタッフの対応も最悪。     飲食内容の質が低い  \n",
       "4406  最終的に社長から返金対応する旨の提案を受け、案内を約束されたが未だ待っている状況。\\n本当に...           その他  \n",
       "4407        水上バスは夜景がきれいだったけど、ほんとにそれだけって感じだった。違和感がありすぎた。     会場や雰囲気が悪い  \n",
       "4408                 参加費4000円と交通費と時間が無駄でした、やってることは詐欺ですね           その他  \n",
       "\n",
       "[4409 rows x 4 columns]"
      ]
     },
     "execution_count": 2,
     "metadata": {},
     "output_type": "execute_result"
    }
   ],
   "source": [
    "INPUT_BUCKET = 'gs://jesseulundo-bucket/questionnaire_classification/input_data/'\n",
    "PROJECT_NAME = 'linkbal-dp'\n",
    "BUCKET_NAME = 'mj-labeling-questionnaires-dev.datasets.linkbal.com' \n",
    "client = gcs.Client(PROJECT_NAME)\n",
    "bucket = gcs.Bucket(client, name=BUCKET_NAME)\n",
    "# JAPANESE STOPWORDS\n",
    "jp_stop_words = pd.read_csv('gs://jesseulundo-bucket/questionnaire_classification/input_data/Japanese_stopword_list.txt', header=None, delimiter=\"\\t\")\n",
    "# HAND LABELLED QUESTIONNAIRE DATA\n",
    "qs = pd.read_csv(INPUT_BUCKET + 'new_test_data_20200310.csv', sep=',')\n",
    "qs "
   ]
  },
  {
   "cell_type": "code",
   "execution_count": 3,
   "metadata": {},
   "outputs": [],
   "source": [
    "qs = qs.dropna()\n",
    "#qs = qs.replace(to_replace =\"男女比があっていない\\n\", value =\"男女比があっていない\")"
   ]
  },
  {
   "cell_type": "code",
   "execution_count": 4,
   "metadata": {},
   "outputs": [
    {
     "data": {
      "text/plain": [
       "array(['スタッフの対応が悪い', '参加人数（多い、少ない）', '出会えなかった', '飲食内容の質が低い', 'その他',\n",
       "       '会場や雰囲気が悪い', '参加条件が合ってない', '男女比があっていない', '掲載内容と相違がある',\n",
       "       '男女比があっていない\\n'], dtype=object)"
      ]
     },
     "execution_count": 4,
     "metadata": {},
     "output_type": "execute_result"
    }
   ],
   "source": [
    "qs['categories'].unique()"
   ]
  },
  {
   "cell_type": "code",
   "execution_count": 5,
   "metadata": {},
   "outputs": [],
   "source": [
    "category_codes = {'スタッフの対応が悪い': 0,\n",
    "                  '参加人数（多い、少ない)': 1,\n",
    "                  '出会えなかった': 2,\n",
    "                  '飲食内容のが質が低い': 3,\n",
    "                  '会場や雰囲気が悪い': 4,\n",
    "                  '参加条件が合っていない': 5,\n",
    "                  '男女比があっていない': 6,\n",
    "                  '掲載内容と相違がある': 7,\n",
    "                  'その他': 8}"
   ]
  },
  {
   "cell_type": "code",
   "execution_count": 6,
   "metadata": {},
   "outputs": [],
   "source": []
  }
 ],
 "metadata": {
  "kernelspec": {
   "display_name": "Python 3",
   "language": "python",
   "name": "python3"
  },
  "language_info": {
   "codemirror_mode": {
    "name": "ipython",
    "version": 3
   },
   "file_extension": ".py",
   "mimetype": "text/x-python",
   "name": "python",
   "nbconvert_exporter": "python",
   "pygments_lexer": "ipython3",
   "version": "3.7.4"
  }
 },
 "nbformat": 4,
 "nbformat_minor": 2
}
